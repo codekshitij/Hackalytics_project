{
  "cells": [
    {
      "cell_type": "markdown",
      "metadata": {
        "colab_type": "text",
        "id": "view-in-github"
      },
      "source": [
        "<a href=\"https://colab.research.google.com/github/codekshitij/NLP2SQL/blob/main/final_project.ipynb\" target=\"_parent\"><img src=\"https://colab.research.google.com/assets/colab-badge.svg\" alt=\"Open In Colab\"/></a>"
      ]
    },
    {
      "cell_type": "code",
      "execution_count": 6,
      "metadata": {
        "execution": {
          "iopub.execute_input": "2024-02-11T01:03:36.660821Z",
          "iopub.status.busy": "2024-02-11T01:03:36.660343Z",
          "iopub.status.idle": "2024-02-11T01:03:36.929273Z",
          "shell.execute_reply": "2024-02-11T01:03:36.928366Z",
          "shell.execute_reply.started": "2024-02-11T01:03:36.660789Z"
        },
        "id": "xAlM_-Tx33If",
        "trusted": true
      },
      "outputs": [],
      "source": [
        "import pandas as pd\n",
        "import numpy as np\n",
        "import matplotlib.pyplot as plt\n",
        "import seaborn as sns\n",
        "import joblib\n",
        "from sklearn.ensemble import RandomForestClassifier\n",
        "from sklearn.model_selection import train_test_split\n",
        "from sklearn.ensemble import RandomForestClassifier\n",
        "\n",
        "\n",
        "%matplotlib inline\n",
        "\n"
      ]
    },
    {
      "cell_type": "code",
      "execution_count": 7,
      "metadata": {},
      "outputs": [],
      "source": [
        "data = pd.read_csv('SaYoPillow.csv')"
      ]
    },
    {
      "cell_type": "code",
      "execution_count": null,
      "metadata": {},
      "outputs": [],
      "source": []
    },
    {
      "cell_type": "code",
      "execution_count": 8,
      "metadata": {
        "colab": {
          "base_uri": "https://localhost:8080/",
          "height": 206
        },
        "execution": {
          "iopub.execute_input": "2024-02-11T00:43:08.827052Z",
          "iopub.status.busy": "2024-02-11T00:43:08.826504Z",
          "iopub.status.idle": "2024-02-11T00:43:08.866921Z",
          "shell.execute_reply": "2024-02-11T00:43:08.865798Z",
          "shell.execute_reply.started": "2024-02-11T00:43:08.82702Z"
        },
        "id": "fUuNLRCD33If",
        "outputId": "25f67606-b3b7-4912-f99b-3526671d6209",
        "trusted": true
      },
      "outputs": [
        {
          "data": {
            "text/html": [
              "<div>\n",
              "<style scoped>\n",
              "    .dataframe tbody tr th:only-of-type {\n",
              "        vertical-align: middle;\n",
              "    }\n",
              "\n",
              "    .dataframe tbody tr th {\n",
              "        vertical-align: top;\n",
              "    }\n",
              "\n",
              "    .dataframe thead th {\n",
              "        text-align: right;\n",
              "    }\n",
              "</style>\n",
              "<table border=\"1\" class=\"dataframe\">\n",
              "  <thead>\n",
              "    <tr style=\"text-align: right;\">\n",
              "      <th></th>\n",
              "      <th>sr</th>\n",
              "      <th>rr</th>\n",
              "      <th>t</th>\n",
              "      <th>lm</th>\n",
              "      <th>bo</th>\n",
              "      <th>rem</th>\n",
              "      <th>sr.1</th>\n",
              "      <th>hr</th>\n",
              "      <th>sl</th>\n",
              "    </tr>\n",
              "  </thead>\n",
              "  <tbody>\n",
              "    <tr>\n",
              "      <th>0</th>\n",
              "      <td>93.80</td>\n",
              "      <td>25.680</td>\n",
              "      <td>91.840</td>\n",
              "      <td>16.600</td>\n",
              "      <td>89.840</td>\n",
              "      <td>99.60</td>\n",
              "      <td>1.840</td>\n",
              "      <td>74.20</td>\n",
              "      <td>3</td>\n",
              "    </tr>\n",
              "    <tr>\n",
              "      <th>1</th>\n",
              "      <td>91.64</td>\n",
              "      <td>25.104</td>\n",
              "      <td>91.552</td>\n",
              "      <td>15.880</td>\n",
              "      <td>89.552</td>\n",
              "      <td>98.88</td>\n",
              "      <td>1.552</td>\n",
              "      <td>72.76</td>\n",
              "      <td>3</td>\n",
              "    </tr>\n",
              "    <tr>\n",
              "      <th>2</th>\n",
              "      <td>60.00</td>\n",
              "      <td>20.000</td>\n",
              "      <td>96.000</td>\n",
              "      <td>10.000</td>\n",
              "      <td>95.000</td>\n",
              "      <td>85.00</td>\n",
              "      <td>7.000</td>\n",
              "      <td>60.00</td>\n",
              "      <td>1</td>\n",
              "    </tr>\n",
              "    <tr>\n",
              "      <th>3</th>\n",
              "      <td>85.76</td>\n",
              "      <td>23.536</td>\n",
              "      <td>90.768</td>\n",
              "      <td>13.920</td>\n",
              "      <td>88.768</td>\n",
              "      <td>96.92</td>\n",
              "      <td>0.768</td>\n",
              "      <td>68.84</td>\n",
              "      <td>3</td>\n",
              "    </tr>\n",
              "    <tr>\n",
              "      <th>4</th>\n",
              "      <td>48.12</td>\n",
              "      <td>17.248</td>\n",
              "      <td>97.872</td>\n",
              "      <td>6.496</td>\n",
              "      <td>96.248</td>\n",
              "      <td>72.48</td>\n",
              "      <td>8.248</td>\n",
              "      <td>53.12</td>\n",
              "      <td>0</td>\n",
              "    </tr>\n",
              "  </tbody>\n",
              "</table>\n",
              "</div>"
            ],
            "text/plain": [
              "      sr      rr       t      lm      bo    rem   sr.1     hr  sl\n",
              "0  93.80  25.680  91.840  16.600  89.840  99.60  1.840  74.20   3\n",
              "1  91.64  25.104  91.552  15.880  89.552  98.88  1.552  72.76   3\n",
              "2  60.00  20.000  96.000  10.000  95.000  85.00  7.000  60.00   1\n",
              "3  85.76  23.536  90.768  13.920  88.768  96.92  0.768  68.84   3\n",
              "4  48.12  17.248  97.872   6.496  96.248  72.48  8.248  53.12   0"
            ]
          },
          "execution_count": 8,
          "metadata": {},
          "output_type": "execute_result"
        }
      ],
      "source": [
        "\n",
        "data.head()"
      ]
    },
    {
      "cell_type": "code",
      "execution_count": 9,
      "metadata": {
        "colab": {
          "base_uri": "https://localhost:8080/"
        },
        "execution": {
          "iopub.execute_input": "2024-02-11T00:43:39.643503Z",
          "iopub.status.busy": "2024-02-11T00:43:39.642949Z",
          "iopub.status.idle": "2024-02-11T00:43:39.674276Z",
          "shell.execute_reply": "2024-02-11T00:43:39.672975Z",
          "shell.execute_reply.started": "2024-02-11T00:43:39.643466Z"
        },
        "id": "cLQ2rOLK33If",
        "outputId": "25657513-77c1-4c8b-9bd4-ae4d953b76bf",
        "trusted": true
      },
      "outputs": [
        {
          "name": "stdout",
          "output_type": "stream",
          "text": [
            "<class 'pandas.core.frame.DataFrame'>\n",
            "RangeIndex: 630 entries, 0 to 629\n",
            "Data columns (total 9 columns):\n",
            " #   Column  Non-Null Count  Dtype  \n",
            "---  ------  --------------  -----  \n",
            " 0   sr      630 non-null    float64\n",
            " 1   rr      630 non-null    float64\n",
            " 2   t       630 non-null    float64\n",
            " 3   lm      630 non-null    float64\n",
            " 4   bo      630 non-null    float64\n",
            " 5   rem     630 non-null    float64\n",
            " 6   sr.1    630 non-null    float64\n",
            " 7   hr      630 non-null    float64\n",
            " 8   sl      630 non-null    int64  \n",
            "dtypes: float64(8), int64(1)\n",
            "memory usage: 44.4 KB\n"
          ]
        }
      ],
      "source": [
        "data.info()"
      ]
    },
    {
      "cell_type": "code",
      "execution_count": 10,
      "metadata": {
        "colab": {
          "base_uri": "https://localhost:8080/",
          "height": 300
        },
        "execution": {
          "iopub.execute_input": "2024-02-11T00:43:50.193683Z",
          "iopub.status.busy": "2024-02-11T00:43:50.193284Z",
          "iopub.status.idle": "2024-02-11T00:43:50.239264Z",
          "shell.execute_reply": "2024-02-11T00:43:50.237077Z",
          "shell.execute_reply.started": "2024-02-11T00:43:50.193655Z"
        },
        "id": "Ad217Puw33If",
        "outputId": "b2e874af-b37d-4f0c-bac8-16bfe0decb8c",
        "trusted": true
      },
      "outputs": [
        {
          "data": {
            "text/html": [
              "<div>\n",
              "<style scoped>\n",
              "    .dataframe tbody tr th:only-of-type {\n",
              "        vertical-align: middle;\n",
              "    }\n",
              "\n",
              "    .dataframe tbody tr th {\n",
              "        vertical-align: top;\n",
              "    }\n",
              "\n",
              "    .dataframe thead th {\n",
              "        text-align: right;\n",
              "    }\n",
              "</style>\n",
              "<table border=\"1\" class=\"dataframe\">\n",
              "  <thead>\n",
              "    <tr style=\"text-align: right;\">\n",
              "      <th></th>\n",
              "      <th>sr</th>\n",
              "      <th>rr</th>\n",
              "      <th>t</th>\n",
              "      <th>lm</th>\n",
              "      <th>bo</th>\n",
              "      <th>rem</th>\n",
              "      <th>sr.1</th>\n",
              "      <th>hr</th>\n",
              "      <th>sl</th>\n",
              "    </tr>\n",
              "  </thead>\n",
              "  <tbody>\n",
              "    <tr>\n",
              "      <th>count</th>\n",
              "      <td>630.000000</td>\n",
              "      <td>630.000000</td>\n",
              "      <td>630.00000</td>\n",
              "      <td>630.000000</td>\n",
              "      <td>630.000000</td>\n",
              "      <td>630.000000</td>\n",
              "      <td>630.000000</td>\n",
              "      <td>630.000000</td>\n",
              "      <td>630.000000</td>\n",
              "    </tr>\n",
              "    <tr>\n",
              "      <th>mean</th>\n",
              "      <td>71.600000</td>\n",
              "      <td>21.800000</td>\n",
              "      <td>92.80000</td>\n",
              "      <td>11.700000</td>\n",
              "      <td>90.900000</td>\n",
              "      <td>88.500000</td>\n",
              "      <td>3.700000</td>\n",
              "      <td>64.500000</td>\n",
              "      <td>2.000000</td>\n",
              "    </tr>\n",
              "    <tr>\n",
              "      <th>std</th>\n",
              "      <td>19.372833</td>\n",
              "      <td>3.966111</td>\n",
              "      <td>3.52969</td>\n",
              "      <td>4.299629</td>\n",
              "      <td>3.902483</td>\n",
              "      <td>11.893747</td>\n",
              "      <td>3.054572</td>\n",
              "      <td>9.915277</td>\n",
              "      <td>1.415337</td>\n",
              "    </tr>\n",
              "    <tr>\n",
              "      <th>min</th>\n",
              "      <td>45.000000</td>\n",
              "      <td>16.000000</td>\n",
              "      <td>85.00000</td>\n",
              "      <td>4.000000</td>\n",
              "      <td>82.000000</td>\n",
              "      <td>60.000000</td>\n",
              "      <td>0.000000</td>\n",
              "      <td>50.000000</td>\n",
              "      <td>0.000000</td>\n",
              "    </tr>\n",
              "    <tr>\n",
              "      <th>25%</th>\n",
              "      <td>52.500000</td>\n",
              "      <td>18.500000</td>\n",
              "      <td>90.50000</td>\n",
              "      <td>8.500000</td>\n",
              "      <td>88.500000</td>\n",
              "      <td>81.250000</td>\n",
              "      <td>0.500000</td>\n",
              "      <td>56.250000</td>\n",
              "      <td>1.000000</td>\n",
              "    </tr>\n",
              "    <tr>\n",
              "      <th>50%</th>\n",
              "      <td>70.000000</td>\n",
              "      <td>21.000000</td>\n",
              "      <td>93.00000</td>\n",
              "      <td>11.000000</td>\n",
              "      <td>91.000000</td>\n",
              "      <td>90.000000</td>\n",
              "      <td>3.500000</td>\n",
              "      <td>62.500000</td>\n",
              "      <td>2.000000</td>\n",
              "    </tr>\n",
              "    <tr>\n",
              "      <th>75%</th>\n",
              "      <td>91.250000</td>\n",
              "      <td>25.000000</td>\n",
              "      <td>95.50000</td>\n",
              "      <td>15.750000</td>\n",
              "      <td>94.250000</td>\n",
              "      <td>98.750000</td>\n",
              "      <td>6.500000</td>\n",
              "      <td>72.500000</td>\n",
              "      <td>3.000000</td>\n",
              "    </tr>\n",
              "    <tr>\n",
              "      <th>max</th>\n",
              "      <td>100.000000</td>\n",
              "      <td>30.000000</td>\n",
              "      <td>99.00000</td>\n",
              "      <td>19.000000</td>\n",
              "      <td>97.000000</td>\n",
              "      <td>105.000000</td>\n",
              "      <td>9.000000</td>\n",
              "      <td>85.000000</td>\n",
              "      <td>4.000000</td>\n",
              "    </tr>\n",
              "  </tbody>\n",
              "</table>\n",
              "</div>"
            ],
            "text/plain": [
              "               sr          rr          t          lm          bo         rem   \n",
              "count  630.000000  630.000000  630.00000  630.000000  630.000000  630.000000  \\\n",
              "mean    71.600000   21.800000   92.80000   11.700000   90.900000   88.500000   \n",
              "std     19.372833    3.966111    3.52969    4.299629    3.902483   11.893747   \n",
              "min     45.000000   16.000000   85.00000    4.000000   82.000000   60.000000   \n",
              "25%     52.500000   18.500000   90.50000    8.500000   88.500000   81.250000   \n",
              "50%     70.000000   21.000000   93.00000   11.000000   91.000000   90.000000   \n",
              "75%     91.250000   25.000000   95.50000   15.750000   94.250000   98.750000   \n",
              "max    100.000000   30.000000   99.00000   19.000000   97.000000  105.000000   \n",
              "\n",
              "             sr.1          hr          sl  \n",
              "count  630.000000  630.000000  630.000000  \n",
              "mean     3.700000   64.500000    2.000000  \n",
              "std      3.054572    9.915277    1.415337  \n",
              "min      0.000000   50.000000    0.000000  \n",
              "25%      0.500000   56.250000    1.000000  \n",
              "50%      3.500000   62.500000    2.000000  \n",
              "75%      6.500000   72.500000    3.000000  \n",
              "max      9.000000   85.000000    4.000000  "
            ]
          },
          "execution_count": 10,
          "metadata": {},
          "output_type": "execute_result"
        }
      ],
      "source": [
        "data.describe()"
      ]
    },
    {
      "cell_type": "code",
      "execution_count": 11,
      "metadata": {
        "colab": {
          "base_uri": "https://localhost:8080/"
        },
        "execution": {
          "iopub.execute_input": "2024-02-11T00:44:46.27128Z",
          "iopub.status.busy": "2024-02-11T00:44:46.270816Z",
          "iopub.status.idle": "2024-02-11T00:44:46.283927Z",
          "shell.execute_reply": "2024-02-11T00:44:46.282375Z",
          "shell.execute_reply.started": "2024-02-11T00:44:46.271247Z"
        },
        "id": "W6skKXa833If",
        "outputId": "862a27b9-8cb1-48c3-ec5b-db6709013b8d",
        "trusted": true
      },
      "outputs": [
        {
          "data": {
            "text/plain": [
              "sl\n",
              "3    126\n",
              "1    126\n",
              "0    126\n",
              "2    126\n",
              "4    126\n",
              "Name: count, dtype: int64"
            ]
          },
          "execution_count": 11,
          "metadata": {},
          "output_type": "execute_result"
        }
      ],
      "source": [
        "data['sl'].value_counts()"
      ]
    },
    {
      "cell_type": "markdown",
      "metadata": {
        "id": "-doxg1su33If"
      },
      "source": [
        "# snoring range of the user,\n",
        "# respiration rate,\n",
        "# body temperature,\n",
        "# limb movement rate,\n",
        "# blood oxygen levels,\n",
        "# eye movement,\n",
        "# number of hours of sleep,\n",
        "# heart rate and Stress Levels (0- low/normal, 1 – medium low, 2- medium, 3-medium high, 4 -high)"
      ]
    },
    {
      "cell_type": "code",
      "execution_count": 12,
      "metadata": {
        "execution": {
          "iopub.execute_input": "2024-02-11T00:50:51.524058Z",
          "iopub.status.busy": "2024-02-11T00:50:51.522622Z",
          "iopub.status.idle": "2024-02-11T00:50:51.531256Z",
          "shell.execute_reply": "2024-02-11T00:50:51.530078Z",
          "shell.execute_reply.started": "2024-02-11T00:50:51.524019Z"
        },
        "id": "tvkSrxrC33Ig",
        "trusted": true
      },
      "outputs": [],
      "source": [
        "data.rename({'sr':'SnoringRate',\n",
        "            'rr':'RespirationRate',\n",
        "            't':'BodyTemperature',\n",
        "            'lm':'LimbMovement',\n",
        "            'bo':'BloodOxygen',\n",
        "            'rem':'RapidEyeMovement',\n",
        "            'sr.1':'SleepingHours',\n",
        "            'hr':'HeartRate',\n",
        "            'sl':'StressLevel'}, axis=1, inplace=True)"
      ]
    },
    {
      "cell_type": "code",
      "execution_count": 13,
      "metadata": {
        "colab": {
          "base_uri": "https://localhost:8080/",
          "height": 402
        },
        "execution": {
          "iopub.execute_input": "2024-02-11T00:51:27.010899Z",
          "iopub.status.busy": "2024-02-11T00:51:27.010378Z",
          "iopub.status.idle": "2024-02-11T00:51:27.428287Z",
          "shell.execute_reply": "2024-02-11T00:51:27.426931Z",
          "shell.execute_reply.started": "2024-02-11T00:51:27.010864Z"
        },
        "id": "0oSiLdvo33Ig",
        "outputId": "7a0dda1e-a5fa-45bf-8339-7d56451ace17",
        "trusted": true
      },
      "outputs": [
        {
          "data": {
            "image/png": "[encoded data removed]",
            "text/plain": [
              "<Figure size 1500x500 with 2 Axes>"
            ]
          },
          "metadata": {},
          "output_type": "display_data"
        }
      ],
      "source": [
        "stress = data['StressLevel'].value_counts().sort_index()\n",
        "colors = ['aliceblue','aqua','cornflowerblue','darkslateblue','navy']\n",
        "\n",
        "figure, axes = plt.subplots(1,2, figsize=(15,5), gridspec_kw={'width_ratios':[1.5,1]})\n",
        "axes[0].barh(y=stress.index.astype(str), width=stress.values, color=colors)\n",
        "axes[0].set_xlabel('Frequency')\n",
        "axes[0].set_ylabel('Stress Level')\n",
        "\n",
        "for index, values in enumerate(stress):\n",
        "    axes[0].text(values+1, index, str(values), va='center')\n",
        "\n",
        "axes[0].grid(alpha=0.4)\n",
        "axes[1].pie(stress.values, labels=stress.index, autopct='%.2f%%', colors=colors, explode=([0.05]*len(stress.index)))\n",
        "figure.suptitle('Distribution of Samples by Stress Levels', fontsize=15)\n",
        "plt.tight_layout(pad=1)\n",
        "plt.show()\n"
      ]
    },
    {
      "cell_type": "code",
      "execution_count": 14,
      "metadata": {
        "colab": {
          "base_uri": "https://localhost:8080/",
          "height": 761
        },
        "execution": {
          "iopub.execute_input": "2024-02-11T00:52:05.505756Z",
          "iopub.status.busy": "2024-02-11T00:52:05.505314Z",
          "iopub.status.idle": "2024-02-11T00:52:05.830573Z",
          "shell.execute_reply": "2024-02-11T00:52:05.829347Z",
          "shell.execute_reply.started": "2024-02-11T00:52:05.505724Z"
        },
        "id": "UMoyqelx33Ig",
        "outputId": "bc7b3281-be7d-454f-9b44-5293bab7bb1f",
        "trusted": true
      },
      "outputs": [
        {
          "data": {
            "text/html": [
              "<div>\n",
              "<style scoped>\n",
              "    .dataframe tbody tr th:only-of-type {\n",
              "        vertical-align: middle;\n",
              "    }\n",
              "\n",
              "    .dataframe tbody tr th {\n",
              "        vertical-align: top;\n",
              "    }\n",
              "\n",
              "    .dataframe thead th {\n",
              "        text-align: right;\n",
              "    }\n",
              "</style>\n",
              "<table border=\"1\" class=\"dataframe\">\n",
              "  <thead>\n",
              "    <tr style=\"text-align: right;\">\n",
              "      <th></th>\n",
              "      <th>count</th>\n",
              "      <th>mean</th>\n",
              "      <th>std</th>\n",
              "      <th>min</th>\n",
              "      <th>25%</th>\n",
              "      <th>50%</th>\n",
              "      <th>75%</th>\n",
              "      <th>max</th>\n",
              "    </tr>\n",
              "    <tr>\n",
              "      <th>StressLevel</th>\n",
              "      <th></th>\n",
              "      <th></th>\n",
              "      <th></th>\n",
              "      <th></th>\n",
              "      <th></th>\n",
              "      <th></th>\n",
              "      <th></th>\n",
              "      <th></th>\n",
              "    </tr>\n",
              "  </thead>\n",
              "  <tbody>\n",
              "    <tr>\n",
              "      <th>0</th>\n",
              "      <td>126.0</td>\n",
              "      <td>47.5</td>\n",
              "      <td>1.460685</td>\n",
              "      <td>45.0</td>\n",
              "      <td>46.25</td>\n",
              "      <td>47.5</td>\n",
              "      <td>48.75</td>\n",
              "      <td>50.0</td>\n",
              "    </tr>\n",
              "    <tr>\n",
              "      <th>1</th>\n",
              "      <td>126.0</td>\n",
              "      <td>55.0</td>\n",
              "      <td>2.921370</td>\n",
              "      <td>50.0</td>\n",
              "      <td>52.50</td>\n",
              "      <td>55.0</td>\n",
              "      <td>57.50</td>\n",
              "      <td>60.0</td>\n",
              "    </tr>\n",
              "    <tr>\n",
              "      <th>2</th>\n",
              "      <td>126.0</td>\n",
              "      <td>70.0</td>\n",
              "      <td>5.842739</td>\n",
              "      <td>60.0</td>\n",
              "      <td>65.00</td>\n",
              "      <td>70.0</td>\n",
              "      <td>75.00</td>\n",
              "      <td>80.0</td>\n",
              "    </tr>\n",
              "    <tr>\n",
              "      <th>3</th>\n",
              "      <td>126.0</td>\n",
              "      <td>87.5</td>\n",
              "      <td>4.382054</td>\n",
              "      <td>80.0</td>\n",
              "      <td>83.75</td>\n",
              "      <td>87.5</td>\n",
              "      <td>91.25</td>\n",
              "      <td>95.0</td>\n",
              "    </tr>\n",
              "    <tr>\n",
              "      <th>4</th>\n",
              "      <td>126.0</td>\n",
              "      <td>98.0</td>\n",
              "      <td>1.168548</td>\n",
              "      <td>96.0</td>\n",
              "      <td>97.00</td>\n",
              "      <td>98.0</td>\n",
              "      <td>99.00</td>\n",
              "      <td>100.0</td>\n",
              "    </tr>\n",
              "  </tbody>\n",
              "</table>\n",
              "</div>"
            ],
            "text/plain": [
              "             count  mean       std   min    25%   50%    75%    max\n",
              "StressLevel                                                        \n",
              "0            126.0  47.5  1.460685  45.0  46.25  47.5  48.75   50.0\n",
              "1            126.0  55.0  2.921370  50.0  52.50  55.0  57.50   60.0\n",
              "2            126.0  70.0  5.842739  60.0  65.00  70.0  75.00   80.0\n",
              "3            126.0  87.5  4.382054  80.0  83.75  87.5  91.25   95.0\n",
              "4            126.0  98.0  1.168548  96.0  97.00  98.0  99.00  100.0"
            ]
          },
          "metadata": {},
          "output_type": "display_data"
        },
        {
          "data": {
            "image/png": "[encoded data removed]",
            "text/plain": [
              "<Figure size 1500x500 with 1 Axes>"
            ]
          },
          "metadata": {},
          "output_type": "display_data"
        }
      ],
      "source": [
        "display(data.groupby('StressLevel').SnoringRate.describe())\n",
        "plt.figure(figsize=(15,5))\n",
        "sns.boxplot(data=data, y=data['SnoringRate'], x=data['StressLevel'], palette=colors)\n",
        "plt.xlabel('Stress Level')\n",
        "plt.ylabel('Snoring Rate')\n",
        "plt.title('Snoring Rate by Different Stress Level', fontsize=15)\n",
        "plt.grid(alpha=0.4)\n",
        "plt.show()"
      ]
    },
    {
      "cell_type": "code",
      "execution_count": 15,
      "metadata": {
        "colab": {
          "base_uri": "https://localhost:8080/",
          "height": 764
        },
        "execution": {
          "iopub.execute_input": "2024-02-11T00:52:43.966403Z",
          "iopub.status.busy": "2024-02-11T00:52:43.965952Z",
          "iopub.status.idle": "2024-02-11T00:52:44.309672Z",
          "shell.execute_reply": "2024-02-11T00:52:44.307621Z",
          "shell.execute_reply.started": "2024-02-11T00:52:43.966368Z"
        },
        "id": "C9a8L3RI33Ig",
        "outputId": "96157056-ec7b-478d-c21e-263e950abcd7",
        "trusted": true
      },
      "outputs": [
        {
          "data": {
            "text/html": [
              "<div>\n",
              "<style scoped>\n",
              "    .dataframe tbody tr th:only-of-type {\n",
              "        vertical-align: middle;\n",
              "    }\n",
              "\n",
              "    .dataframe tbody tr th {\n",
              "        vertical-align: top;\n",
              "    }\n",
              "\n",
              "    .dataframe thead th {\n",
              "        text-align: right;\n",
              "    }\n",
              "</style>\n",
              "<table border=\"1\" class=\"dataframe\">\n",
              "  <thead>\n",
              "    <tr style=\"text-align: right;\">\n",
              "      <th></th>\n",
              "      <th>count</th>\n",
              "      <th>mean</th>\n",
              "      <th>std</th>\n",
              "      <th>min</th>\n",
              "      <th>25%</th>\n",
              "      <th>50%</th>\n",
              "      <th>75%</th>\n",
              "      <th>max</th>\n",
              "    </tr>\n",
              "    <tr>\n",
              "      <th>StressLevel</th>\n",
              "      <th></th>\n",
              "      <th></th>\n",
              "      <th></th>\n",
              "      <th></th>\n",
              "      <th></th>\n",
              "      <th></th>\n",
              "      <th></th>\n",
              "      <th></th>\n",
              "    </tr>\n",
              "  </thead>\n",
              "  <tbody>\n",
              "    <tr>\n",
              "      <th>0</th>\n",
              "      <td>126.0</td>\n",
              "      <td>47.5</td>\n",
              "      <td>1.460685</td>\n",
              "      <td>45.0</td>\n",
              "      <td>46.25</td>\n",
              "      <td>47.5</td>\n",
              "      <td>48.75</td>\n",
              "      <td>50.0</td>\n",
              "    </tr>\n",
              "    <tr>\n",
              "      <th>1</th>\n",
              "      <td>126.0</td>\n",
              "      <td>55.0</td>\n",
              "      <td>2.921370</td>\n",
              "      <td>50.0</td>\n",
              "      <td>52.50</td>\n",
              "      <td>55.0</td>\n",
              "      <td>57.50</td>\n",
              "      <td>60.0</td>\n",
              "    </tr>\n",
              "    <tr>\n",
              "      <th>2</th>\n",
              "      <td>126.0</td>\n",
              "      <td>70.0</td>\n",
              "      <td>5.842739</td>\n",
              "      <td>60.0</td>\n",
              "      <td>65.00</td>\n",
              "      <td>70.0</td>\n",
              "      <td>75.00</td>\n",
              "      <td>80.0</td>\n",
              "    </tr>\n",
              "    <tr>\n",
              "      <th>3</th>\n",
              "      <td>126.0</td>\n",
              "      <td>87.5</td>\n",
              "      <td>4.382054</td>\n",
              "      <td>80.0</td>\n",
              "      <td>83.75</td>\n",
              "      <td>87.5</td>\n",
              "      <td>91.25</td>\n",
              "      <td>95.0</td>\n",
              "    </tr>\n",
              "    <tr>\n",
              "      <th>4</th>\n",
              "      <td>126.0</td>\n",
              "      <td>98.0</td>\n",
              "      <td>1.168548</td>\n",
              "      <td>96.0</td>\n",
              "      <td>97.00</td>\n",
              "      <td>98.0</td>\n",
              "      <td>99.00</td>\n",
              "      <td>100.0</td>\n",
              "    </tr>\n",
              "  </tbody>\n",
              "</table>\n",
              "</div>"
            ],
            "text/plain": [
              "             count  mean       std   min    25%   50%    75%    max\n",
              "StressLevel                                                        \n",
              "0            126.0  47.5  1.460685  45.0  46.25  47.5  48.75   50.0\n",
              "1            126.0  55.0  2.921370  50.0  52.50  55.0  57.50   60.0\n",
              "2            126.0  70.0  5.842739  60.0  65.00  70.0  75.00   80.0\n",
              "3            126.0  87.5  4.382054  80.0  83.75  87.5  91.25   95.0\n",
              "4            126.0  98.0  1.168548  96.0  97.00  98.0  99.00  100.0"
            ]
          },
          "metadata": {},
          "output_type": "display_data"
        },
        {
          "data": {
            "image/png": "[encoded data removed]",
            "text/plain": [
              "<Figure size 1500x500 with 1 Axes>"
            ]
          },
          "metadata": {},
          "output_type": "display_data"
        }
      ],
      "source": [
        "display(data.groupby('StressLevel').SnoringRate.describe())\n",
        "plt.figure(figsize=(15,5))\n",
        "sns.boxplot(data=data, y=data['BodyTemperature'], x=data['StressLevel'], palette=colors)\n",
        "plt.xlabel('Stress Level')\n",
        "plt.ylabel('Body Temperature')\n",
        "plt.title('Body Temperature by Different Stress Level', fontsize=15)\n",
        "plt.grid(alpha=0.4)\n",
        "plt.show()"
      ]
    },
    {
      "cell_type": "code",
      "execution_count": 16,
      "metadata": {
        "colab": {
          "base_uri": "https://localhost:8080/",
          "height": 764
        },
        "execution": {
          "iopub.execute_input": "2024-02-11T00:52:58.388868Z",
          "iopub.status.busy": "2024-02-11T00:52:58.388405Z",
          "iopub.status.idle": "2024-02-11T00:52:58.717222Z",
          "shell.execute_reply": "2024-02-11T00:52:58.715792Z",
          "shell.execute_reply.started": "2024-02-11T00:52:58.388834Z"
        },
        "id": "2wf_0eHE33Ig",
        "outputId": "408de097-abe9-4f97-8a71-62ebbaf8ff22",
        "trusted": true
      },
      "outputs": [
        {
          "data": {
            "text/html": [
              "<div>\n",
              "<style scoped>\n",
              "    .dataframe tbody tr th:only-of-type {\n",
              "        vertical-align: middle;\n",
              "    }\n",
              "\n",
              "    .dataframe tbody tr th {\n",
              "        vertical-align: top;\n",
              "    }\n",
              "\n",
              "    .dataframe thead th {\n",
              "        text-align: right;\n",
              "    }\n",
              "</style>\n",
              "<table border=\"1\" class=\"dataframe\">\n",
              "  <thead>\n",
              "    <tr style=\"text-align: right;\">\n",
              "      <th></th>\n",
              "      <th>count</th>\n",
              "      <th>mean</th>\n",
              "      <th>std</th>\n",
              "      <th>min</th>\n",
              "      <th>25%</th>\n",
              "      <th>50%</th>\n",
              "      <th>75%</th>\n",
              "      <th>max</th>\n",
              "    </tr>\n",
              "    <tr>\n",
              "      <th>StressLevel</th>\n",
              "      <th></th>\n",
              "      <th></th>\n",
              "      <th></th>\n",
              "      <th></th>\n",
              "      <th></th>\n",
              "      <th></th>\n",
              "      <th></th>\n",
              "      <th></th>\n",
              "    </tr>\n",
              "  </thead>\n",
              "  <tbody>\n",
              "    <tr>\n",
              "      <th>0</th>\n",
              "      <td>126.0</td>\n",
              "      <td>47.5</td>\n",
              "      <td>1.460685</td>\n",
              "      <td>45.0</td>\n",
              "      <td>46.25</td>\n",
              "      <td>47.5</td>\n",
              "      <td>48.75</td>\n",
              "      <td>50.0</td>\n",
              "    </tr>\n",
              "    <tr>\n",
              "      <th>1</th>\n",
              "      <td>126.0</td>\n",
              "      <td>55.0</td>\n",
              "      <td>2.921370</td>\n",
              "      <td>50.0</td>\n",
              "      <td>52.50</td>\n",
              "      <td>55.0</td>\n",
              "      <td>57.50</td>\n",
              "      <td>60.0</td>\n",
              "    </tr>\n",
              "    <tr>\n",
              "      <th>2</th>\n",
              "      <td>126.0</td>\n",
              "      <td>70.0</td>\n",
              "      <td>5.842739</td>\n",
              "      <td>60.0</td>\n",
              "      <td>65.00</td>\n",
              "      <td>70.0</td>\n",
              "      <td>75.00</td>\n",
              "      <td>80.0</td>\n",
              "    </tr>\n",
              "    <tr>\n",
              "      <th>3</th>\n",
              "      <td>126.0</td>\n",
              "      <td>87.5</td>\n",
              "      <td>4.382054</td>\n",
              "      <td>80.0</td>\n",
              "      <td>83.75</td>\n",
              "      <td>87.5</td>\n",
              "      <td>91.25</td>\n",
              "      <td>95.0</td>\n",
              "    </tr>\n",
              "    <tr>\n",
              "      <th>4</th>\n",
              "      <td>126.0</td>\n",
              "      <td>98.0</td>\n",
              "      <td>1.168548</td>\n",
              "      <td>96.0</td>\n",
              "      <td>97.00</td>\n",
              "      <td>98.0</td>\n",
              "      <td>99.00</td>\n",
              "      <td>100.0</td>\n",
              "    </tr>\n",
              "  </tbody>\n",
              "</table>\n",
              "</div>"
            ],
            "text/plain": [
              "             count  mean       std   min    25%   50%    75%    max\n",
              "StressLevel                                                        \n",
              "0            126.0  47.5  1.460685  45.0  46.25  47.5  48.75   50.0\n",
              "1            126.0  55.0  2.921370  50.0  52.50  55.0  57.50   60.0\n",
              "2            126.0  70.0  5.842739  60.0  65.00  70.0  75.00   80.0\n",
              "3            126.0  87.5  4.382054  80.0  83.75  87.5  91.25   95.0\n",
              "4            126.0  98.0  1.168548  96.0  97.00  98.0  99.00  100.0"
            ]
          },
          "metadata": {},
          "output_type": "display_data"
        },
        {
          "data": {
            "image/png": "[encoded data removed]",
            "text/plain": [
              "<Figure size 1500x500 with 1 Axes>"
            ]
          },
          "metadata": {},
          "output_type": "display_data"
        }
      ],
      "source": [
        "display(data.groupby('StressLevel').SnoringRate.describe())\n",
        "plt.figure(figsize=(15,5))\n",
        "sns.boxplot(data=data, y=data['LimbMovement'], x=data['StressLevel'], palette=colors)\n",
        "plt.xlabel('Stress Level')\n",
        "plt.ylabel('Limb Movement')\n",
        "plt.title('Limb Movement by Different Stress Level', fontsize=15)\n",
        "plt.grid(alpha=0.4)\n",
        "plt.show()"
      ]
    },
    {
      "cell_type": "code",
      "execution_count": 17,
      "metadata": {
        "colab": {
          "base_uri": "https://localhost:8080/",
          "height": 764
        },
        "execution": {
          "iopub.execute_input": "2024-02-11T00:53:08.93414Z",
          "iopub.status.busy": "2024-02-11T00:53:08.933769Z",
          "iopub.status.idle": "2024-02-11T00:53:09.289396Z",
          "shell.execute_reply": "2024-02-11T00:53:09.288019Z",
          "shell.execute_reply.started": "2024-02-11T00:53:08.934111Z"
        },
        "id": "3cXAJxGO33Ig",
        "outputId": "fd4363f6-0932-4827-da21-f79233908d20",
        "trusted": true
      },
      "outputs": [
        {
          "data": {
            "text/html": [
              "<div>\n",
              "<style scoped>\n",
              "    .dataframe tbody tr th:only-of-type {\n",
              "        vertical-align: middle;\n",
              "    }\n",
              "\n",
              "    .dataframe tbody tr th {\n",
              "        vertical-align: top;\n",
              "    }\n",
              "\n",
              "    .dataframe thead th {\n",
              "        text-align: right;\n",
              "    }\n",
              "</style>\n",
              "<table border=\"1\" class=\"dataframe\">\n",
              "  <thead>\n",
              "    <tr style=\"text-align: right;\">\n",
              "      <th></th>\n",
              "      <th>count</th>\n",
              "      <th>mean</th>\n",
              "      <th>std</th>\n",
              "      <th>min</th>\n",
              "      <th>25%</th>\n",
              "      <th>50%</th>\n",
              "      <th>75%</th>\n",
              "      <th>max</th>\n",
              "    </tr>\n",
              "    <tr>\n",
              "      <th>StressLevel</th>\n",
              "      <th></th>\n",
              "      <th></th>\n",
              "      <th></th>\n",
              "      <th></th>\n",
              "      <th></th>\n",
              "      <th></th>\n",
              "      <th></th>\n",
              "      <th></th>\n",
              "    </tr>\n",
              "  </thead>\n",
              "  <tbody>\n",
              "    <tr>\n",
              "      <th>0</th>\n",
              "      <td>126.0</td>\n",
              "      <td>47.5</td>\n",
              "      <td>1.460685</td>\n",
              "      <td>45.0</td>\n",
              "      <td>46.25</td>\n",
              "      <td>47.5</td>\n",
              "      <td>48.75</td>\n",
              "      <td>50.0</td>\n",
              "    </tr>\n",
              "    <tr>\n",
              "      <th>1</th>\n",
              "      <td>126.0</td>\n",
              "      <td>55.0</td>\n",
              "      <td>2.921370</td>\n",
              "      <td>50.0</td>\n",
              "      <td>52.50</td>\n",
              "      <td>55.0</td>\n",
              "      <td>57.50</td>\n",
              "      <td>60.0</td>\n",
              "    </tr>\n",
              "    <tr>\n",
              "      <th>2</th>\n",
              "      <td>126.0</td>\n",
              "      <td>70.0</td>\n",
              "      <td>5.842739</td>\n",
              "      <td>60.0</td>\n",
              "      <td>65.00</td>\n",
              "      <td>70.0</td>\n",
              "      <td>75.00</td>\n",
              "      <td>80.0</td>\n",
              "    </tr>\n",
              "    <tr>\n",
              "      <th>3</th>\n",
              "      <td>126.0</td>\n",
              "      <td>87.5</td>\n",
              "      <td>4.382054</td>\n",
              "      <td>80.0</td>\n",
              "      <td>83.75</td>\n",
              "      <td>87.5</td>\n",
              "      <td>91.25</td>\n",
              "      <td>95.0</td>\n",
              "    </tr>\n",
              "    <tr>\n",
              "      <th>4</th>\n",
              "      <td>126.0</td>\n",
              "      <td>98.0</td>\n",
              "      <td>1.168548</td>\n",
              "      <td>96.0</td>\n",
              "      <td>97.00</td>\n",
              "      <td>98.0</td>\n",
              "      <td>99.00</td>\n",
              "      <td>100.0</td>\n",
              "    </tr>\n",
              "  </tbody>\n",
              "</table>\n",
              "</div>"
            ],
            "text/plain": [
              "             count  mean       std   min    25%   50%    75%    max\n",
              "StressLevel                                                        \n",
              "0            126.0  47.5  1.460685  45.0  46.25  47.5  48.75   50.0\n",
              "1            126.0  55.0  2.921370  50.0  52.50  55.0  57.50   60.0\n",
              "2            126.0  70.0  5.842739  60.0  65.00  70.0  75.00   80.0\n",
              "3            126.0  87.5  4.382054  80.0  83.75  87.5  91.25   95.0\n",
              "4            126.0  98.0  1.168548  96.0  97.00  98.0  99.00  100.0"
            ]
          },
          "metadata": {},
          "output_type": "display_data"
        },
        {
          "data": {
            "image/png": "[encoded data removed]",
            "text/plain": [
              "<Figure size 1500x500 with 1 Axes>"
            ]
          },
          "metadata": {},
          "output_type": "display_data"
        }
      ],
      "source": [
        "display(data.groupby('StressLevel').SnoringRate.describe())\n",
        "plt.figure(figsize=(15,5))\n",
        "sns.boxplot(data=data, y=data['BloodOxygen'], x=data['StressLevel'], palette=colors)\n",
        "plt.xlabel('Stress Level')\n",
        "plt.ylabel('Blood Oxygen')\n",
        "plt.title('Blood Oxygen by Different Stress Level', fontsize=15)\n",
        "plt.grid(alpha=0.4)\n",
        "plt.show()"
      ]
    },
    {
      "cell_type": "code",
      "execution_count": 18,
      "metadata": {
        "colab": {
          "base_uri": "https://localhost:8080/",
          "height": 761
        },
        "execution": {
          "iopub.execute_input": "2024-02-11T00:53:35.977274Z",
          "iopub.status.busy": "2024-02-11T00:53:35.976113Z",
          "iopub.status.idle": "2024-02-11T00:53:36.300913Z",
          "shell.execute_reply": "2024-02-11T00:53:36.299389Z",
          "shell.execute_reply.started": "2024-02-11T00:53:35.977221Z"
        },
        "id": "DcuDPqFd33Ig",
        "outputId": "b7b182f3-2975-429b-cfac-0036eeb3d695",
        "trusted": true
      },
      "outputs": [
        {
          "data": {
            "text/html": [
              "<div>\n",
              "<style scoped>\n",
              "    .dataframe tbody tr th:only-of-type {\n",
              "        vertical-align: middle;\n",
              "    }\n",
              "\n",
              "    .dataframe tbody tr th {\n",
              "        vertical-align: top;\n",
              "    }\n",
              "\n",
              "    .dataframe thead th {\n",
              "        text-align: right;\n",
              "    }\n",
              "</style>\n",
              "<table border=\"1\" class=\"dataframe\">\n",
              "  <thead>\n",
              "    <tr style=\"text-align: right;\">\n",
              "      <th></th>\n",
              "      <th>count</th>\n",
              "      <th>mean</th>\n",
              "      <th>std</th>\n",
              "      <th>min</th>\n",
              "      <th>25%</th>\n",
              "      <th>50%</th>\n",
              "      <th>75%</th>\n",
              "      <th>max</th>\n",
              "    </tr>\n",
              "    <tr>\n",
              "      <th>StressLevel</th>\n",
              "      <th></th>\n",
              "      <th></th>\n",
              "      <th></th>\n",
              "      <th></th>\n",
              "      <th></th>\n",
              "      <th></th>\n",
              "      <th></th>\n",
              "      <th></th>\n",
              "    </tr>\n",
              "  </thead>\n",
              "  <tbody>\n",
              "    <tr>\n",
              "      <th>0</th>\n",
              "      <td>126.0</td>\n",
              "      <td>47.5</td>\n",
              "      <td>1.460685</td>\n",
              "      <td>45.0</td>\n",
              "      <td>46.25</td>\n",
              "      <td>47.5</td>\n",
              "      <td>48.75</td>\n",
              "      <td>50.0</td>\n",
              "    </tr>\n",
              "    <tr>\n",
              "      <th>1</th>\n",
              "      <td>126.0</td>\n",
              "      <td>55.0</td>\n",
              "      <td>2.921370</td>\n",
              "      <td>50.0</td>\n",
              "      <td>52.50</td>\n",
              "      <td>55.0</td>\n",
              "      <td>57.50</td>\n",
              "      <td>60.0</td>\n",
              "    </tr>\n",
              "    <tr>\n",
              "      <th>2</th>\n",
              "      <td>126.0</td>\n",
              "      <td>70.0</td>\n",
              "      <td>5.842739</td>\n",
              "      <td>60.0</td>\n",
              "      <td>65.00</td>\n",
              "      <td>70.0</td>\n",
              "      <td>75.00</td>\n",
              "      <td>80.0</td>\n",
              "    </tr>\n",
              "    <tr>\n",
              "      <th>3</th>\n",
              "      <td>126.0</td>\n",
              "      <td>87.5</td>\n",
              "      <td>4.382054</td>\n",
              "      <td>80.0</td>\n",
              "      <td>83.75</td>\n",
              "      <td>87.5</td>\n",
              "      <td>91.25</td>\n",
              "      <td>95.0</td>\n",
              "    </tr>\n",
              "    <tr>\n",
              "      <th>4</th>\n",
              "      <td>126.0</td>\n",
              "      <td>98.0</td>\n",
              "      <td>1.168548</td>\n",
              "      <td>96.0</td>\n",
              "      <td>97.00</td>\n",
              "      <td>98.0</td>\n",
              "      <td>99.00</td>\n",
              "      <td>100.0</td>\n",
              "    </tr>\n",
              "  </tbody>\n",
              "</table>\n",
              "</div>"
            ],
            "text/plain": [
              "             count  mean       std   min    25%   50%    75%    max\n",
              "StressLevel                                                        \n",
              "0            126.0  47.5  1.460685  45.0  46.25  47.5  48.75   50.0\n",
              "1            126.0  55.0  2.921370  50.0  52.50  55.0  57.50   60.0\n",
              "2            126.0  70.0  5.842739  60.0  65.00  70.0  75.00   80.0\n",
              "3            126.0  87.5  4.382054  80.0  83.75  87.5  91.25   95.0\n",
              "4            126.0  98.0  1.168548  96.0  97.00  98.0  99.00  100.0"
            ]
          },
          "metadata": {},
          "output_type": "display_data"
        },
        {
          "data": {
            "image/png": "[encoded data removed]",
            "text/plain": [
              "<Figure size 1500x500 with 1 Axes>"
            ]
          },
          "metadata": {},
          "output_type": "display_data"
        }
      ],
      "source": [
        "display(data.groupby('StressLevel').SnoringRate.describe())\n",
        "plt.figure(figsize=(15,5))\n",
        "sns.boxplot(data=data, y=data['RapidEyeMovement'], x=data['StressLevel'], palette=colors)\n",
        "plt.xlabel('Stress Level')\n",
        "plt.ylabel('Rapid Eye Movement')\n",
        "plt.title('Rapid Eye Movement (REM) by Different Stress Level', fontsize=15)\n",
        "plt.grid(alpha=0.4)\n",
        "plt.show()\n"
      ]
    },
    {
      "cell_type": "code",
      "execution_count": 19,
      "metadata": {
        "colab": {
          "base_uri": "https://localhost:8080/",
          "height": 767
        },
        "execution": {
          "iopub.execute_input": "2024-02-11T00:53:47.832723Z",
          "iopub.status.busy": "2024-02-11T00:53:47.832223Z",
          "iopub.status.idle": "2024-02-11T00:53:48.139914Z",
          "shell.execute_reply": "2024-02-11T00:53:48.138512Z",
          "shell.execute_reply.started": "2024-02-11T00:53:47.832673Z"
        },
        "id": "sRufVWp033Ig",
        "outputId": "81d9b25e-afc2-4ae7-9c18-caedc3b266ab",
        "trusted": true
      },
      "outputs": [
        {
          "data": {
            "text/html": [
              "<div>\n",
              "<style scoped>\n",
              "    .dataframe tbody tr th:only-of-type {\n",
              "        vertical-align: middle;\n",
              "    }\n",
              "\n",
              "    .dataframe tbody tr th {\n",
              "        vertical-align: top;\n",
              "    }\n",
              "\n",
              "    .dataframe thead th {\n",
              "        text-align: right;\n",
              "    }\n",
              "</style>\n",
              "<table border=\"1\" class=\"dataframe\">\n",
              "  <thead>\n",
              "    <tr style=\"text-align: right;\">\n",
              "      <th></th>\n",
              "      <th>count</th>\n",
              "      <th>mean</th>\n",
              "      <th>std</th>\n",
              "      <th>min</th>\n",
              "      <th>25%</th>\n",
              "      <th>50%</th>\n",
              "      <th>75%</th>\n",
              "      <th>max</th>\n",
              "    </tr>\n",
              "    <tr>\n",
              "      <th>StressLevel</th>\n",
              "      <th></th>\n",
              "      <th></th>\n",
              "      <th></th>\n",
              "      <th></th>\n",
              "      <th></th>\n",
              "      <th></th>\n",
              "      <th></th>\n",
              "      <th></th>\n",
              "    </tr>\n",
              "  </thead>\n",
              "  <tbody>\n",
              "    <tr>\n",
              "      <th>0</th>\n",
              "      <td>126.0</td>\n",
              "      <td>47.5</td>\n",
              "      <td>1.460685</td>\n",
              "      <td>45.0</td>\n",
              "      <td>46.25</td>\n",
              "      <td>47.5</td>\n",
              "      <td>48.75</td>\n",
              "      <td>50.0</td>\n",
              "    </tr>\n",
              "    <tr>\n",
              "      <th>1</th>\n",
              "      <td>126.0</td>\n",
              "      <td>55.0</td>\n",
              "      <td>2.921370</td>\n",
              "      <td>50.0</td>\n",
              "      <td>52.50</td>\n",
              "      <td>55.0</td>\n",
              "      <td>57.50</td>\n",
              "      <td>60.0</td>\n",
              "    </tr>\n",
              "    <tr>\n",
              "      <th>2</th>\n",
              "      <td>126.0</td>\n",
              "      <td>70.0</td>\n",
              "      <td>5.842739</td>\n",
              "      <td>60.0</td>\n",
              "      <td>65.00</td>\n",
              "      <td>70.0</td>\n",
              "      <td>75.00</td>\n",
              "      <td>80.0</td>\n",
              "    </tr>\n",
              "    <tr>\n",
              "      <th>3</th>\n",
              "      <td>126.0</td>\n",
              "      <td>87.5</td>\n",
              "      <td>4.382054</td>\n",
              "      <td>80.0</td>\n",
              "      <td>83.75</td>\n",
              "      <td>87.5</td>\n",
              "      <td>91.25</td>\n",
              "      <td>95.0</td>\n",
              "    </tr>\n",
              "    <tr>\n",
              "      <th>4</th>\n",
              "      <td>126.0</td>\n",
              "      <td>98.0</td>\n",
              "      <td>1.168548</td>\n",
              "      <td>96.0</td>\n",
              "      <td>97.00</td>\n",
              "      <td>98.0</td>\n",
              "      <td>99.00</td>\n",
              "      <td>100.0</td>\n",
              "    </tr>\n",
              "  </tbody>\n",
              "</table>\n",
              "</div>"
            ],
            "text/plain": [
              "             count  mean       std   min    25%   50%    75%    max\n",
              "StressLevel                                                        \n",
              "0            126.0  47.5  1.460685  45.0  46.25  47.5  48.75   50.0\n",
              "1            126.0  55.0  2.921370  50.0  52.50  55.0  57.50   60.0\n",
              "2            126.0  70.0  5.842739  60.0  65.00  70.0  75.00   80.0\n",
              "3            126.0  87.5  4.382054  80.0  83.75  87.5  91.25   95.0\n",
              "4            126.0  98.0  1.168548  96.0  97.00  98.0  99.00  100.0"
            ]
          },
          "metadata": {},
          "output_type": "display_data"
        },
        {
          "data": {
            "image/png": "[encoded data removed]",
            "text/plain": [
              "<Figure size 1500x500 with 1 Axes>"
            ]
          },
          "metadata": {},
          "output_type": "display_data"
        }
      ],
      "source": [
        "display(data.groupby('StressLevel').SnoringRate.describe())\n",
        "plt.figure(figsize=(15,5))\n",
        "sns.boxplot(data=data, y=data['SleepingHours'], x=data['StressLevel'], palette=colors)\n",
        "plt.xlabel('Stress Level')\n",
        "plt.ylabel('Sleeping Hours')\n",
        "plt.title('Sleeping Hours by Different Stress Level', fontsize=15)\n",
        "plt.grid(alpha=0.4)\n",
        "plt.show()"
      ]
    },
    {
      "cell_type": "code",
      "execution_count": 20,
      "metadata": {
        "colab": {
          "base_uri": "https://localhost:8080/",
          "height": 764
        },
        "execution": {
          "iopub.execute_input": "2024-02-11T00:54:20.181683Z",
          "iopub.status.busy": "2024-02-11T00:54:20.181284Z",
          "iopub.status.idle": "2024-02-11T00:54:21.133858Z",
          "shell.execute_reply": "2024-02-11T00:54:21.132589Z",
          "shell.execute_reply.started": "2024-02-11T00:54:20.181652Z"
        },
        "id": "eYihTJzG33Ih",
        "outputId": "6a40ff73-3167-437b-df94-ebde6eeeb971",
        "trusted": true
      },
      "outputs": [
        {
          "data": {
            "text/html": [
              "<div>\n",
              "<style scoped>\n",
              "    .dataframe tbody tr th:only-of-type {\n",
              "        vertical-align: middle;\n",
              "    }\n",
              "\n",
              "    .dataframe tbody tr th {\n",
              "        vertical-align: top;\n",
              "    }\n",
              "\n",
              "    .dataframe thead th {\n",
              "        text-align: right;\n",
              "    }\n",
              "</style>\n",
              "<table border=\"1\" class=\"dataframe\">\n",
              "  <thead>\n",
              "    <tr style=\"text-align: right;\">\n",
              "      <th></th>\n",
              "      <th>count</th>\n",
              "      <th>mean</th>\n",
              "      <th>std</th>\n",
              "      <th>min</th>\n",
              "      <th>25%</th>\n",
              "      <th>50%</th>\n",
              "      <th>75%</th>\n",
              "      <th>max</th>\n",
              "    </tr>\n",
              "    <tr>\n",
              "      <th>StressLevel</th>\n",
              "      <th></th>\n",
              "      <th></th>\n",
              "      <th></th>\n",
              "      <th></th>\n",
              "      <th></th>\n",
              "      <th></th>\n",
              "      <th></th>\n",
              "      <th></th>\n",
              "    </tr>\n",
              "  </thead>\n",
              "  <tbody>\n",
              "    <tr>\n",
              "      <th>0</th>\n",
              "      <td>126.0</td>\n",
              "      <td>47.5</td>\n",
              "      <td>1.460685</td>\n",
              "      <td>45.0</td>\n",
              "      <td>46.25</td>\n",
              "      <td>47.5</td>\n",
              "      <td>48.75</td>\n",
              "      <td>50.0</td>\n",
              "    </tr>\n",
              "    <tr>\n",
              "      <th>1</th>\n",
              "      <td>126.0</td>\n",
              "      <td>55.0</td>\n",
              "      <td>2.921370</td>\n",
              "      <td>50.0</td>\n",
              "      <td>52.50</td>\n",
              "      <td>55.0</td>\n",
              "      <td>57.50</td>\n",
              "      <td>60.0</td>\n",
              "    </tr>\n",
              "    <tr>\n",
              "      <th>2</th>\n",
              "      <td>126.0</td>\n",
              "      <td>70.0</td>\n",
              "      <td>5.842739</td>\n",
              "      <td>60.0</td>\n",
              "      <td>65.00</td>\n",
              "      <td>70.0</td>\n",
              "      <td>75.00</td>\n",
              "      <td>80.0</td>\n",
              "    </tr>\n",
              "    <tr>\n",
              "      <th>3</th>\n",
              "      <td>126.0</td>\n",
              "      <td>87.5</td>\n",
              "      <td>4.382054</td>\n",
              "      <td>80.0</td>\n",
              "      <td>83.75</td>\n",
              "      <td>87.5</td>\n",
              "      <td>91.25</td>\n",
              "      <td>95.0</td>\n",
              "    </tr>\n",
              "    <tr>\n",
              "      <th>4</th>\n",
              "      <td>126.0</td>\n",
              "      <td>98.0</td>\n",
              "      <td>1.168548</td>\n",
              "      <td>96.0</td>\n",
              "      <td>97.00</td>\n",
              "      <td>98.0</td>\n",
              "      <td>99.00</td>\n",
              "      <td>100.0</td>\n",
              "    </tr>\n",
              "  </tbody>\n",
              "</table>\n",
              "</div>"
            ],
            "text/plain": [
              "             count  mean       std   min    25%   50%    75%    max\n",
              "StressLevel                                                        \n",
              "0            126.0  47.5  1.460685  45.0  46.25  47.5  48.75   50.0\n",
              "1            126.0  55.0  2.921370  50.0  52.50  55.0  57.50   60.0\n",
              "2            126.0  70.0  5.842739  60.0  65.00  70.0  75.00   80.0\n",
              "3            126.0  87.5  4.382054  80.0  83.75  87.5  91.25   95.0\n",
              "4            126.0  98.0  1.168548  96.0  97.00  98.0  99.00  100.0"
            ]
          },
          "metadata": {},
          "output_type": "display_data"
        },
        {
          "data": {
            "image/png": "[encoded data removed]",
            "text/plain": [
              "<Figure size 1500x500 with 1 Axes>"
            ]
          },
          "metadata": {},
          "output_type": "display_data"
        }
      ],
      "source": [
        "display(data.groupby('StressLevel').SnoringRate.describe())\n",
        "plt.figure(figsize=(15,5))\n",
        "sns.boxplot(data=data, y=data['HeartRate'], x=data['StressLevel'], palette=colors)\n",
        "plt.xlabel('Stress Level')\n",
        "plt.ylabel('Heart Rate')\n",
        "plt.title('Heart Rate by Different Stress Level', fontsize=15)\n",
        "plt.grid(alpha=0.4)\n",
        "plt.show()\n"
      ]
    },
    {
      "cell_type": "code",
      "execution_count": 21,
      "metadata": {
        "execution": {
          "iopub.execute_input": "2024-02-11T01:01:14.270326Z",
          "iopub.status.busy": "2024-02-11T01:01:14.269905Z",
          "iopub.status.idle": "2024-02-11T01:01:14.279019Z",
          "shell.execute_reply": "2024-02-11T01:01:14.277779Z",
          "shell.execute_reply.started": "2024-02-11T01:01:14.270296Z"
        },
        "id": "eVjh7kEH33Ih",
        "trusted": true
      },
      "outputs": [],
      "source": [
        "X = data.drop(['StressLevel'], axis=1)\n",
        "y = data['StressLevel']"
      ]
    },
    {
      "cell_type": "code",
      "execution_count": 22,
      "metadata": {
        "colab": {
          "base_uri": "https://localhost:8080/"
        },
        "execution": {
          "iopub.execute_input": "2024-02-11T01:03:10.720538Z",
          "iopub.status.busy": "2024-02-11T01:03:10.7201Z",
          "iopub.status.idle": "2024-02-11T01:03:10.731265Z",
          "shell.execute_reply": "2024-02-11T01:03:10.730124Z",
          "shell.execute_reply.started": "2024-02-11T01:03:10.720505Z"
        },
        "id": "qZrWiM4l33Ih",
        "outputId": "01aa344b-1b7a-4d01-caf1-0bd053821b1c",
        "trusted": true
      },
      "outputs": [
        {
          "name": "stdout",
          "output_type": "stream",
          "text": [
            "X_train shape: (504, 8)\n",
            "y_train shape: (504,)\n",
            "X_test shape: (126, 8)\n",
            "y_test shape: (126,)\n"
          ]
        }
      ],
      "source": [
        "X_train, X_test, y_train, y_test = train_test_split(X, y, test_size=0.2, random_state=42)\n",
        "\n",
        "# Display the shapes of the training and testing sets\n",
        "print(\"X_train shape:\", X_train.shape)\n",
        "print(\"y_train shape:\", y_train.shape)\n",
        "print(\"X_test shape:\", X_test.shape)\n",
        "print(\"y_test shape:\", y_test.shape)"
      ]
    },
    {
      "cell_type": "code",
      "execution_count": 23,
      "metadata": {
        "colab": {
          "base_uri": "https://localhost:8080/"
        },
        "execution": {
          "iopub.execute_input": "2024-02-11T01:04:53.704184Z",
          "iopub.status.busy": "2024-02-11T01:04:53.703738Z",
          "iopub.status.idle": "2024-02-11T01:04:53.713176Z",
          "shell.execute_reply": "2024-02-11T01:04:53.711397Z",
          "shell.execute_reply.started": "2024-02-11T01:04:53.704149Z"
        },
        "id": "-_SDmtIB33Ih",
        "outputId": "5f9898f8-a62b-41f0-b5b8-c92f9bd53ae6",
        "trusted": true
      },
      "outputs": [
        {
          "data": {
            "text/plain": [
              "(504,)"
            ]
          },
          "execution_count": 23,
          "metadata": {},
          "output_type": "execute_result"
        }
      ],
      "source": [
        "y_train.shape"
      ]
    },
    {
      "cell_type": "code",
      "execution_count": 24,
      "metadata": {
        "colab": {
          "base_uri": "https://localhost:8080/"
        },
        "execution": {
          "iopub.execute_input": "2024-02-11T01:05:11.11134Z",
          "iopub.status.busy": "2024-02-11T01:05:11.110865Z",
          "iopub.status.idle": "2024-02-11T01:05:11.120355Z",
          "shell.execute_reply": "2024-02-11T01:05:11.118936Z",
          "shell.execute_reply.started": "2024-02-11T01:05:11.111306Z"
        },
        "id": "zP4elZDO33Ih",
        "outputId": "0b142123-bce4-4ed4-bcda-3c3efab77062",
        "trusted": true
      },
      "outputs": [
        {
          "data": {
            "text/plain": [
              "(504,)"
            ]
          },
          "execution_count": 24,
          "metadata": {},
          "output_type": "execute_result"
        }
      ],
      "source": [
        "y_train.values.ravel().shape"
      ]
    },
    {
      "cell_type": "code",
      "execution_count": 25,
      "metadata": {
        "colab": {
          "base_uri": "https://localhost:8080/",
          "height": 75
        },
        "execution": {
          "iopub.execute_input": "2024-02-11T01:05:53.135476Z",
          "iopub.status.busy": "2024-02-11T01:05:53.135073Z",
          "iopub.status.idle": "2024-02-11T01:05:54.458901Z",
          "shell.execute_reply": "2024-02-11T01:05:54.457521Z",
          "shell.execute_reply.started": "2024-02-11T01:05:53.135447Z"
        },
        "id": "bVs9ahKy33Ih",
        "outputId": "aa499460-92c6-42fa-fa40-1b4a329c684c",
        "trusted": true
      },
      "outputs": [
        {
          "data": {
            "text/html": [
              "<style>#sk-container-id-1 {color: black;}#sk-container-id-1 pre{padding: 0;}#sk-container-id-1 div.sk-toggleable {background-color: white;}#sk-container-id-1 label.sk-toggleable__label {cursor: pointer;display: block;width: 100%;margin-bottom: 0;padding: 0.3em;box-sizing: border-box;text-align: center;}#sk-container-id-1 label.sk-toggleable__label-arrow:before {content: \"▸\";float: left;margin-right: 0.25em;color: #696969;}#sk-container-id-1 label.sk-toggleable__label-arrow:hover:before {color: black;}#sk-container-id-1 div.sk-estimator:hover label.sk-toggleable__label-arrow:before {color: black;}#sk-container-id-1 div.sk-toggleable__content {max-height: 0;max-width: 0;overflow: hidden;text-align: left;background-color: #f0f8ff;}#sk-container-id-1 div.sk-toggleable__content pre {margin: 0.2em;color: black;border-radius: 0.25em;background-color: #f0f8ff;}#sk-container-id-1 input.sk-toggleable__control:checked~div.sk-toggleable__content {max-height: 200px;max-width: 100%;overflow: auto;}#sk-container-id-1 input.sk-toggleable__control:checked~label.sk-toggleable__label-arrow:before {content: \"▾\";}#sk-container-id-1 div.sk-estimator input.sk-toggleable__control:checked~label.sk-toggleable__label {background-color: #d4ebff;}#sk-container-id-1 div.sk-label input.sk-toggleable__control:checked~label.sk-toggleable__label {background-color: #d4ebff;}#sk-container-id-1 input.sk-hidden--visually {border: 0;clip: rect(1px 1px 1px 1px);clip: rect(1px, 1px, 1px, 1px);height: 1px;margin: -1px;overflow: hidden;padding: 0;position: absolute;width: 1px;}#sk-container-id-1 div.sk-estimator {font-family: monospace;background-color: #f0f8ff;border: 1px dotted black;border-radius: 0.25em;box-sizing: border-box;margin-bottom: 0.5em;}#sk-container-id-1 div.sk-estimator:hover {background-color: #d4ebff;}#sk-container-id-1 div.sk-parallel-item::after {content: \"\";width: 100%;border-bottom: 1px solid gray;flex-grow: 1;}#sk-container-id-1 div.sk-label:hover label.sk-toggleable__label {background-color: #d4ebff;}#sk-container-id-1 div.sk-serial::before {content: \"\";position: absolute;border-left: 1px solid gray;box-sizing: border-box;top: 0;bottom: 0;left: 50%;z-index: 0;}#sk-container-id-1 div.sk-serial {display: flex;flex-direction: column;align-items: center;background-color: white;padding-right: 0.2em;padding-left: 0.2em;position: relative;}#sk-container-id-1 div.sk-item {position: relative;z-index: 1;}#sk-container-id-1 div.sk-parallel {display: flex;align-items: stretch;justify-content: center;background-color: white;position: relative;}#sk-container-id-1 div.sk-item::before, #sk-container-id-1 div.sk-parallel-item::before {content: \"\";position: absolute;border-left: 1px solid gray;box-sizing: border-box;top: 0;bottom: 0;left: 50%;z-index: -1;}#sk-container-id-1 div.sk-parallel-item {display: flex;flex-direction: column;z-index: 1;position: relative;background-color: white;}#sk-container-id-1 div.sk-parallel-item:first-child::after {align-self: flex-end;width: 50%;}#sk-container-id-1 div.sk-parallel-item:last-child::after {align-self: flex-start;width: 50%;}#sk-container-id-1 div.sk-parallel-item:only-child::after {width: 0;}#sk-container-id-1 div.sk-dashed-wrapped {border: 1px dashed gray;margin: 0 0.4em 0.5em 0.4em;box-sizing: border-box;padding-bottom: 0.4em;background-color: white;}#sk-container-id-1 div.sk-label label {font-family: monospace;font-weight: bold;display: inline-block;line-height: 1.2em;}#sk-container-id-1 div.sk-label-container {text-align: center;}#sk-container-id-1 div.sk-container {/* jupyter's `normalize.less` sets `[hidden] { display: none; }` but bootstrap.min.css set `[hidden] { display: none !important; }` so we also need the `!important` here to be able to override the default hidden behavior on the sphinx rendered scikit-learn.org. See: https://github.com/scikit-learn/scikit-learn/issues/21755 */display: inline-block !important;position: relative;}#sk-container-id-1 div.sk-text-repr-fallback {display: none;}</style><div id=\"sk-container-id-1\" class=\"sk-top-container\"><div class=\"sk-text-repr-fallback\"><pre>RandomForestClassifier(n_estimators=500, random_state=1)</pre><b>In a Jupyter environment, please rerun this cell to show the HTML representation or trust the notebook. <br />On GitHub, the HTML representation is unable to render, please try loading this page with nbviewer.org.</b></div><div class=\"sk-container\" hidden><div class=\"sk-item\"><div class=\"sk-estimator sk-toggleable\"><input class=\"sk-toggleable__control sk-hidden--visually\" id=\"sk-estimator-id-1\" type=\"checkbox\" checked><label for=\"sk-estimator-id-1\" class=\"sk-toggleable__label sk-toggleable__label-arrow\">RandomForestClassifier</label><div class=\"sk-toggleable__content\"><pre>RandomForestClassifier(n_estimators=500, random_state=1)</pre></div></div></div></div></div>"
            ],
            "text/plain": [
              "RandomForestClassifier(n_estimators=500, random_state=1)"
            ]
          },
          "execution_count": 25,
          "metadata": {},
          "output_type": "execute_result"
        }
      ],
      "source": [
        "forest = RandomForestClassifier(n_estimators=500, random_state=1)\n",
        "\n",
        "# Train the RandomForestClassifier on the training data\n",
        "forest.fit(X_train, y_train)"
      ]
    },
    {
      "cell_type": "code",
      "execution_count": 26,
      "metadata": {
        "colab": {
          "base_uri": "https://localhost:8080/"
        },
        "execution": {
          "iopub.execute_input": "2024-02-11T01:06:10.42738Z",
          "iopub.status.busy": "2024-02-11T01:06:10.426964Z",
          "iopub.status.idle": "2024-02-11T01:06:10.467974Z",
          "shell.execute_reply": "2024-02-11T01:06:10.46633Z",
          "shell.execute_reply.started": "2024-02-11T01:06:10.427349Z"
        },
        "id": "QLgS3-TP33Ih",
        "outputId": "cdb8e13b-ca99-4a41-bf2b-f2ebfabb7421",
        "trusted": true
      },
      "outputs": [
        {
          "name": "stdout",
          "output_type": "stream",
          "text": [
            " 1) SnoringRate                    0.130143\n",
            " 2) RespirationRate                0.123295\n",
            " 3) BodyTemperature                0.122216\n",
            " 4) LimbMovement                   0.123938\n",
            " 5) BloodOxygen                    0.136199\n",
            " 6) RapidEyeMovement               0.137116\n",
            " 7) SleepingHours                  0.104807\n",
            " 8) HeartRate                      0.122288\n"
          ]
        }
      ],
      "source": [
        "importances = forest.feature_importances_\n",
        "\n",
        "# Loop over each feature and its importance\n",
        "for i in range(X_train.shape[1]):\n",
        "    # Print the feature number, name, and importance score\n",
        "    print(\"%2d) %-*s %f\" % (i + 1, 30, data.columns[i], importances[i]))"
      ]
    },
    {
      "cell_type": "code",
      "execution_count": 27,
      "metadata": {
        "colab": {
          "base_uri": "https://localhost:8080/",
          "height": 607
        },
        "execution": {
          "iopub.execute_input": "2024-02-11T01:06:26.478185Z",
          "iopub.status.busy": "2024-02-11T01:06:26.477698Z",
          "iopub.status.idle": "2024-02-11T01:06:26.797427Z",
          "shell.execute_reply": "2024-02-11T01:06:26.795791Z",
          "shell.execute_reply.started": "2024-02-11T01:06:26.47815Z"
        },
        "id": "K9K3jITs33Ih",
        "outputId": "79ccd8cc-3d3e-4b77-c94d-b176395239b7",
        "trusted": true
      },
      "outputs": [
        {
          "data": {
            "image/png": "[encoded data removed]",
            "text/plain": [
              "<Figure size 1000x600 with 1 Axes>"
            ]
          },
          "metadata": {},
          "output_type": "display_data"
        }
      ],
      "source": [
        "plt.figure(figsize=(10, 6))\n",
        "plt.bar(range(X_train.shape[1]), importances, align='center')\n",
        "plt.title('Feature Importance')\n",
        "plt.xticks(range(X_train.shape[1]), X_train.columns, rotation=90)\n",
        "plt.xlabel('Features')\n",
        "plt.ylabel('Importance Score')\n",
        "plt.tight_layout()\n",
        "plt.show()\n"
      ]
    },
    {
      "cell_type": "code",
      "execution_count": 28,
      "metadata": {
        "colab": {
          "base_uri": "https://localhost:8080/"
        },
        "execution": {
          "iopub.execute_input": "2024-02-11T01:07:31.344297Z",
          "iopub.status.busy": "2024-02-11T01:07:31.343897Z",
          "iopub.status.idle": "2024-02-11T01:07:31.399912Z",
          "shell.execute_reply": "2024-02-11T01:07:31.398787Z",
          "shell.execute_reply.started": "2024-02-11T01:07:31.344266Z"
        },
        "id": "zTk4Jp8h33Ih",
        "outputId": "92576bd6-1b19-42ce-8b86-e4e131706e46",
        "trusted": true
      },
      "outputs": [
        {
          "data": {
            "text/plain": [
              "0.9841269841269841"
            ]
          },
          "execution_count": 28,
          "metadata": {},
          "output_type": "execute_result"
        }
      ],
      "source": [
        "forest.score(X_test,y_test)"
      ]
    },
    {
      "cell_type": "code",
      "execution_count": 29,
      "metadata": {
        "colab": {
          "base_uri": "https://localhost:8080/"
        },
        "execution": {
          "iopub.execute_input": "2024-02-11T01:47:22.614007Z",
          "iopub.status.busy": "2024-02-11T01:47:22.61358Z",
          "iopub.status.idle": "2024-02-11T01:47:22.668258Z",
          "shell.execute_reply": "2024-02-11T01:47:22.666782Z",
          "shell.execute_reply.started": "2024-02-11T01:47:22.613977Z"
        },
        "id": "iZa_Ecw533Ih",
        "outputId": "c6b46366-6fd0-467a-c9c8-c7cd987f694e",
        "trusted": true
      },
      "outputs": [
        {
          "name": "stdout",
          "output_type": "stream",
          "text": [
            "Confusion Matrix:\n",
            "[[23  0  0  0  0]\n",
            " [ 1 23  0  0  0]\n",
            " [ 0  0 28  0  0]\n",
            " [ 0  0  0 25  1]\n",
            " [ 0  0  0  0 25]]\n"
          ]
        }
      ],
      "source": [
        "from sklearn.metrics import confusion_matrix\n",
        "y_predict = forest.predict(X_test)\n",
        "\n",
        "matrix = confusion_matrix(y_test, y_predict)\n",
        "\n",
        "print(\"Confusion Matrix:\")\n",
        "print(matrix)"
      ]
    },
    {
      "cell_type": "code",
      "execution_count": 30,
      "metadata": {
        "colab": {
          "base_uri": "https://localhost:8080/"
        },
        "execution": {
          "iopub.execute_input": "2024-02-11T01:47:31.689932Z",
          "iopub.status.busy": "2024-02-11T01:47:31.689542Z",
          "iopub.status.idle": "2024-02-11T01:47:31.70705Z",
          "shell.execute_reply": "2024-02-11T01:47:31.705499Z",
          "shell.execute_reply.started": "2024-02-11T01:47:31.689905Z"
        },
        "id": "_cmUF2mb33Ih",
        "outputId": "3fbdaa0b-eaec-4f0f-f250-19374ba97192",
        "trusted": true
      },
      "outputs": [
        {
          "name": "stdout",
          "output_type": "stream",
          "text": [
            "Classification Report:\n",
            "              precision    recall  f1-score   support\n",
            "\n",
            "           0       0.96      1.00      0.98        23\n",
            "           1       1.00      0.96      0.98        24\n",
            "           2       1.00      1.00      1.00        28\n",
            "           3       1.00      0.96      0.98        26\n",
            "           4       0.96      1.00      0.98        25\n",
            "\n",
            "    accuracy                           0.98       126\n",
            "   macro avg       0.98      0.98      0.98       126\n",
            "weighted avg       0.98      0.98      0.98       126\n",
            "\n"
          ]
        }
      ],
      "source": [
        "from sklearn.metrics import classification_report\n",
        "report = classification_report(y_test, y_predict)\n",
        "\n",
        "# Print the classification report\n",
        "print(\"Classification Report:\")\n",
        "print(report)"
      ]
    },
    {
      "cell_type": "code",
      "execution_count": 31,
      "metadata": {
        "colab": {
          "base_uri": "https://localhost:8080/"
        },
        "execution": {
          "iopub.execute_input": "2024-02-11T01:48:47.307689Z",
          "iopub.status.busy": "2024-02-11T01:48:47.306977Z",
          "iopub.status.idle": "2024-02-11T01:48:47.354473Z",
          "shell.execute_reply": "2024-02-11T01:48:47.353304Z",
          "shell.execute_reply.started": "2024-02-11T01:48:47.307647Z"
        },
        "id": "SLVBzNsg33Ih",
        "outputId": "ebefcc11-aa0a-4612-c95f-185296a47f0f",
        "trusted": true
      },
      "outputs": [
        {
          "name": "stdout",
          "output_type": "stream",
          "text": [
            "Predicted Stress Label for New Data: 2 ( Medium )\n"
          ]
        }
      ],
      "source": [
        "# Predicting Stress Levels\n",
        "# To predict stress levels for new data, you can use the 'predict' method of the trained model.\n",
        "# For example, let's assume we have new data in a DataFrame called 'new_data':\n",
        "new_data = pd.DataFrame([[60.0, 20.0, 92.0, 15.0, 90.0, 95.0, 2.0, 70.0]], columns=X.columns)\n",
        "\n",
        "# Predict the stress level for the new data\n",
        "predicted_stress_level = forest.predict(new_data)\n",
        "\n",
        "# Dictionary to map integer stress levels to human-readable labels\n",
        "stress_level_labels = {\n",
        "    0: \"Low/Normal\",\n",
        "    1: \"Medium Low\",\n",
        "    2: \"Medium\",\n",
        "    3: \"Medium High\",\n",
        "    4: \"High\"\n",
        "}\n",
        "\n",
        "# Assuming you already have the 'predicted_stress_level' from the previous code snippet\n",
        "predicted_stress_label = stress_level_labels[predicted_stress_level[0]]\n",
        "\n",
        "# Display the human-readable label for the predicted stress level\n",
        "print(\"Predicted Stress Label for New Data:\",predicted_stress_level[0],\"(\",predicted_stress_label,\")\")"
      ]
    },
    {
      "cell_type": "code",
      "execution_count": 33,
      "metadata": {},
      "outputs": [
        {
          "data": {
            "text/plain": [
              "Index(['SnoringRate', 'RespirationRate', 'BodyTemperature', 'LimbMovement',\n",
              "       'BloodOxygen', 'RapidEyeMovement', 'SleepingHours', 'HeartRate',\n",
              "       'StressLevel'],\n",
              "      dtype='object')"
            ]
          },
          "execution_count": 33,
          "metadata": {},
          "output_type": "execute_result"
        }
      ],
      "source": [
        "data.columns"
      ]
    },
    {
      "cell_type": "code",
      "execution_count": 34,
      "metadata": {},
      "outputs": [],
      "source": [
        "import pickle"
      ]
    },
    {
      "cell_type": "code",
      "execution_count": 35,
      "metadata": {},
      "outputs": [],
      "source": [
        "filename= 'trained_model.sav'\n",
        "pickle.dump(forest, open(filename, 'wb'))"
      ]
    },
    {
      "cell_type": "code",
      "execution_count": 36,
      "metadata": {},
      "outputs": [],
      "source": [
        "loaded_model = pickle.load(open('trained_model.sav', 'rb'))"
      ]
    },
    {
      "cell_type": "code",
      "execution_count": 41,
      "metadata": {},
      "outputs": [
        {
          "name": "stdout",
          "output_type": "stream",
          "text": [
            "Predicted Stress Label for New Data: 4 ( High )\n"
          ]
        }
      ],
      "source": [
        "# Predicting Stress Levels\n",
        "# To predict stress levels for new data, you can use the 'predict' method of the trained model.\n",
        "# For example, let's assume we have new data in a DataFrame called 'new_data':\n",
        "new_data = pd.DataFrame([[90.0, 50.0, 92.0, 95.0, 90.0, 95.0, 2.0, 90.0]], columns=X.columns)\n",
        "\n",
        "# Predict the stress level for the new data\n",
        "predicted_stress_level = forest.predict(new_data)\n",
        "\n",
        "# Dictionary to map integer stress levels to human-readable labels\n",
        "stress_level_labels = {\n",
        "    0: \"Low/Normal\",\n",
        "    1: \"Medium Low\",\n",
        "    2: \"Medium\",\n",
        "    3: \"Medium High\",\n",
        "    4: \"High\"\n",
        "}\n",
        "\n",
        "# Assuming you already have the 'predicted_stress_level' from the previous code snippet\n",
        "predicted_stress_label = stress_level_labels[predicted_stress_level[0]]\n",
        "\n",
        "# Display the human-readable label for the predicted stress level\n",
        "print(\"Predicted Stress Label for New Data:\",predicted_stress_level[0],\"(\",predicted_stress_label,\")\")"
      ]
    }
  ],
  "metadata": {
    "accelerator": "GPU",
    "colab": {
      "gpuType": "T4",
      "include_colab_link": true,
      "name": "final_project",
      "provenance": []
    },
    "kaggle": {
      "accelerator": "none",
      "dataSources": [
        {
          "datasetId": 1936400,
          "sourceId": 3189060,
          "sourceType": "datasetVersion"
        }
      ],
      "dockerImageVersionId": 30646,
      "isGpuEnabled": false,
      "isInternetEnabled": true,
      "language": "python",
      "sourceType": "notebook"
    },
    "kernelspec": {
      "display_name": "Python 3.11.3 64-bit",
      "language": "python",
      "name": "python3"
    },
    "language_info": {
      "codemirror_mode": {
        "name": "ipython",
        "version": 3
      },
      "file_extension": ".py",
      "mimetype": "text/x-python",
      "name": "python",
      "nbconvert_exporter": "python",
      "pygments_lexer": "ipython3",
      "version": "3.11.3"
    },
    "vscode": {
      "interpreter": {
        "hash": "aee8b7b246df8f9039afb4144a1f6fd8d2ca17a180786b69acc140d282b71a49"
      }
    }
  },
  "nbformat": 4,
  "nbformat_minor": 0
}
